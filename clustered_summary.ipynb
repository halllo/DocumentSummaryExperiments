{
 "cells": [
  {
   "cell_type": "markdown",
   "metadata": {},
   "source": [
    "# Clustered Summary\n",
    "\n",
    "This is an attempt to implement the idea of [How to Summarize Large Documents with LangChain and OpenAI](https://medium.com/@myscale/how-to-summarize-large-documents-with-langchain-and-openai-4312568e80b1) in dotnet with Amazon Bedrock."
   ]
  },
  {
   "cell_type": "markdown",
   "metadata": {},
   "source": [
    "## Parsing\n",
    "\n",
    "For PDF parsing we use [PdfPig](https://github.com/UglyToad/PdfPig). See the [NOTICE](NOTICE) file for license information."
   ]
  },
  {
   "cell_type": "code",
   "execution_count": 1,
   "metadata": {
    "polyglot_notebook": {
     "kernelName": "csharp"
    }
   },
   "outputs": [
    {
     "data": {
      "text/html": [
       "<div><div></div><div></div><div><strong>Installed Packages</strong><ul><li><span>PdfPig, 0.1.10</span></li></ul></div></div>"
      ]
     },
     "metadata": {},
     "output_type": "display_data"
    }
   ],
   "source": [
    "#r \"nuget: PdfPig\""
   ]
  },
  {
   "cell_type": "code",
   "execution_count": 2,
   "metadata": {
    "polyglot_notebook": {
     "kernelName": "csharp"
    }
   },
   "outputs": [],
   "source": [
    "using System.IO;\n",
    "using UglyToad.PdfPig;\n",
    "\n",
    "string GetText(FileInfo file)\n",
    "{\n",
    "    var text = new StringBuilder();\n",
    "\n",
    "    using (var pdfDocument = PdfDocument.Open(file.FullName))\n",
    "    {\n",
    "        foreach (var page in pdfDocument.GetPages())\n",
    "        {\n",
    "            // word grouping by bottom coordinates taken from https://stackoverflow.com/a/75043692/6466378\n",
    "            var wordsList = page.GetWords().GroupBy(x => x.BoundingBox.Bottom);\n",
    "            foreach (var word in wordsList)\n",
    "            {\n",
    "                foreach (var item in word)\n",
    "                {\n",
    "                    text.Append(item.Text + \" \");\n",
    "                }\n",
    "                text.Append(\"\\n\");\n",
    "            }\n",
    "        }\n",
    "    }\n",
    "    return text.ToString();\n",
    "}"
   ]
  },
  {
   "cell_type": "code",
   "execution_count": 3,
   "metadata": {
    "polyglot_notebook": {
     "kernelName": "csharp"
    }
   },
   "outputs": [
    {
     "data": {
      "text/plain": [
       "299821 characters"
      ]
     },
     "metadata": {},
     "output_type": "display_data"
    }
   ],
   "source": [
    "var file = new FileInfo(\"documents\\\\Towards Trust in Legal AI - Enhancing LLMs with Retrieval Augmented Generation.pdf\");\n",
    "var text = GetText(file);\n",
    "display($\"{text.Length} characters\");"
   ]
  },
  {
   "cell_type": "markdown",
   "metadata": {},
   "source": [
    "## Partitioning\n",
    "\n",
    "For text paritioning/chunking we use [SemanticKernel](https://github.com/microsoft/semantic-kernel)."
   ]
  },
  {
   "cell_type": "code",
   "execution_count": 4,
   "metadata": {
    "polyglot_notebook": {
     "kernelName": "csharp"
    }
   },
   "outputs": [
    {
     "data": {
      "text/html": [
       "<div><div></div><div></div><div><strong>Installed Packages</strong><ul><li><span>Microsoft.SemanticKernel.Core, 1.47.0</span></li></ul></div></div>"
      ]
     },
     "metadata": {},
     "output_type": "display_data"
    }
   ],
   "source": [
    "#r \"nuget: Microsoft.SemanticKernel.Core\""
   ]
  },
  {
   "cell_type": "code",
   "execution_count": 5,
   "metadata": {
    "polyglot_notebook": {
     "kernelName": "csharp"
    }
   },
   "outputs": [],
   "source": [
    "using Microsoft.SemanticKernel.Text;\n",
    "\n",
    "string[] Partition(string text) \n",
    "{\n",
    "    //Currently we use static chunking. We should replace this with semantic chunking in the future.\n",
    "    const int maxTokensPerLine = 200;\n",
    "    const int maxTokensPerParagraph = 700;\n",
    "    const int overlappingTokens = 70;\n",
    "    const double charactersPerToken = 4.7; //https://docs.aws.amazon.com/bedrock/latest/userguide/titan-embedding-models.html\n",
    "\n",
    "    #pragma warning disable SKEXP0050 // experminental API\n",
    "    TextChunker.TokenCounter tokenCounter = (string s) => (int)(s.Length / charactersPerToken);\n",
    "    var sentences = TextChunker.SplitPlainTextLines(text, maxTokensPerLine: maxTokensPerLine, tokenCounter: tokenCounter);\n",
    "    var partitions = TextChunker.SplitPlainTextParagraphs(sentences, maxTokensPerParagraph: maxTokensPerParagraph, overlapTokens: overlappingTokens, tokenCounter: tokenCounter, chunkHeader: null);\n",
    "    #pragma warning restore SKEXP0050 // experminental API\n",
    "\n",
    "    return partitions.ToArray();\n",
    "}"
   ]
  },
  {
   "cell_type": "code",
   "execution_count": 6,
   "metadata": {
    "polyglot_notebook": {
     "kernelName": "csharp"
    }
   },
   "outputs": [
    {
     "data": {
      "text/plain": [
       "107 partitions"
      ]
     },
     "metadata": {},
     "output_type": "display_data"
    }
   ],
   "source": [
    "var partitions = Partition(text);\n",
    "display($\"{partitions.Length} partitions\");"
   ]
  },
  {
   "cell_type": "markdown",
   "metadata": {
    "polyglot_notebook": {
     "kernelName": "csharp"
    }
   },
   "source": [
    "## Embedding\n",
    "\n",
    "For text embedding we use [Amazon Titan Text Embeddings v2](https://docs.aws.amazon.com/bedrock/latest/userguide/titan-embedding-models.html) on Amazon Bedrock."
   ]
  },
  {
   "cell_type": "code",
   "execution_count": 7,
   "metadata": {
    "polyglot_notebook": {
     "kernelName": "csharp"
    }
   },
   "outputs": [
    {
     "data": {
      "text/html": [
       "<div><div></div><div></div><div><strong>Installed Packages</strong><ul><li><span>AWSSDK.BedrockRuntime, 3.7.418.7</span></li><li><span>Microsoft.Extensions.Configuration.Json, 9.0.4</span></li></ul></div></div>"
      ]
     },
     "metadata": {},
     "output_type": "display_data"
    }
   ],
   "source": [
    "#r \"nuget: AWSSDK.BedrockRuntime\"\n",
    "#r \"nuget: Microsoft.Extensions.Configuration.Json\""
   ]
  },
  {
   "cell_type": "code",
   "execution_count": 8,
   "metadata": {
    "polyglot_notebook": {
     "kernelName": "csharp"
    }
   },
   "outputs": [],
   "source": [
    "using Amazon.BedrockRuntime;\n",
    "using Amazon.BedrockRuntime.Model;\n",
    "using Microsoft.Extensions.Configuration;\n",
    "\n",
    "var config = new ConfigurationBuilder()\n",
    "    .SetBasePath(Directory.GetCurrentDirectory())\n",
    "    .AddJsonFile(\"appsettings.json\", optional: false)\n",
    "\t.AddJsonFile(\"appsettings.local.json\", optional: true)\n",
    "    .Build();\n",
    "\n",
    "var bedrock = new AmazonBedrockRuntimeClient(\n",
    "\tawsAccessKeyId: config[\"AWSBedrockAccessKeyId\"]!,\n",
    "\tawsSecretAccessKey: config[\"AWSBedrockSecretAccessKey\"]!,\n",
    "\tregion: Amazon.RegionEndpoint.GetBySystemName(config[\"AWSBedrockRegion\"]!));"
   ]
  },
  {
   "cell_type": "code",
   "execution_count": 9,
   "metadata": {
    "polyglot_notebook": {
     "kernelName": "csharp"
    }
   },
   "outputs": [],
   "source": [
    "using System.Text.Json;\n",
    "using System.Threading;\n",
    "using Amazon.Util;\n",
    "\n",
    "record EmbeddingRequest(string inputText);\n",
    "record EmbeddingResponse(float[] embedding, int inputTextTokenCount);\n",
    "\n",
    "async Task<EmbeddingResponse> Embed(string text, CancellationToken cancellationToken = default)\n",
    "{\n",
    "    var requestBody = AWSSDKUtils.GenerateMemoryStreamFromString(JsonSerializer.Serialize(new EmbeddingRequest(text)));\n",
    "    var request = new InvokeModelRequest\n",
    "    {\n",
    "        ModelId = \"amazon.titan-embed-text-v2:0\",\n",
    "        Body = requestBody,\n",
    "    };\n",
    "    var response = await bedrock.InvokeModelAsync(request, cancellationToken);\n",
    "    var embedded = await JsonSerializer.DeserializeAsync<EmbeddingResponse>(response.Body, cancellationToken: cancellationToken);\n",
    "    return embedded;\n",
    "}"
   ]
  },
  {
   "cell_type": "markdown",
   "metadata": {},
   "source": [
    "We embed all partitions in parallel."
   ]
  },
  {
   "cell_type": "code",
   "execution_count": 10,
   "metadata": {
    "polyglot_notebook": {
     "kernelName": "csharp"
    }
   },
   "outputs": [
    {
     "data": {
      "text/plain": [
       "Parallel embedding 107 times took 00:00:01.4451188 and 73674 input tokens"
      ]
     },
     "metadata": {},
     "output_type": "display_data"
    }
   ],
   "source": [
    "using System.Linq;\n",
    "using System.Diagnostics;\n",
    "\n",
    "record Embedding(float[] embedding, int inputTokens, int paritionIndex);\n",
    "\n",
    "var embeddingStopwatch = Stopwatch.StartNew();\n",
    "var embeddingTasks = partitions\n",
    "    .Select((p, i) => (value: p, index: i))\n",
    "    .Select(async partition =>\n",
    "    {\n",
    "        var embedding = await Embed(partition.value);\n",
    "        return new Embedding(embedding.embedding, embedding.inputTextTokenCount, partition.index);\n",
    "    })\n",
    "    .ToList();\n",
    "await Task.WhenAll(embeddingTasks);\n",
    "var embeddings = embeddingTasks.Select(t => t.Result).ToList();\n",
    "var totalInputTokens = embeddings.Sum(s => s.inputTokens);\n",
    "embeddingStopwatch.Stop();\n",
    "\n",
    "display($\"Parallel embedding {embeddings.Count} times took {embeddingStopwatch.Elapsed} and {totalInputTokens} input tokens\");"
   ]
  },
  {
   "cell_type": "markdown",
   "metadata": {},
   "source": [
    "## Clustering\n",
    "\n",
    "For clustering we use K-means with [ML.NET](https://dotnet.microsoft.com/en-us/apps/ai/ml-dotnet)."
   ]
  },
  {
   "cell_type": "code",
   "execution_count": 11,
   "metadata": {
    "polyglot_notebook": {
     "kernelName": "csharp"
    }
   },
   "outputs": [
    {
     "data": {
      "text/html": [
       "<div><div></div><div></div><div><strong>Installed Packages</strong><ul><li><span>Microsoft.ML, 4.0.2</span></li></ul></div></div>"
      ]
     },
     "metadata": {},
     "output_type": "display_data"
    }
   ],
   "source": [
    "#r \"nuget: Microsoft.ML\""
   ]
  },
  {
   "cell_type": "code",
   "execution_count": 12,
   "metadata": {
    "polyglot_notebook": {
     "kernelName": "csharp"
    }
   },
   "outputs": [],
   "source": [
    "using Microsoft.ML;\n",
    "using Microsoft.ML.Data;\n",
    "using Microsoft.ML.Trainers;\n",
    "\n",
    "record DataPoint([property:KeyType(2)] uint PartitionIndex, [property:VectorType(1024)] float[] Features);\n",
    "record Cluster(uint ClusterId, float[] Centroid, DataPoint[] DataPoints);\n",
    "\n",
    "List<Cluster> Kmeans(IEnumerable<DataPoint> dataPoints, int k = 10)\n",
    "{\n",
    "    var mlContext = new MLContext(seed: 0);\n",
    "    \n",
    "    //Load\n",
    "    var dataView = mlContext.Data.LoadFromEnumerable(dataPoints);\n",
    "    \n",
    "    //Normalize (Does it really make a difference? If we need to, we need to normalize the embeddings in general, not only for clustering.)\n",
    "    // var dataProcessingPipeline = mlContext.Transforms.NormalizeMeanVariance(nameof(DataPoint.Features));\n",
    "    // var processedData = dataProcessingPipeline.Fit(dataView).Transform(dataView);\n",
    "    var processedData = dataView;\n",
    "    \n",
    "    //Train\n",
    "    var pipeline = mlContext.Clustering.Trainers.KMeans(new KMeansTrainer.Options\n",
    "    {\n",
    "        NumberOfClusters = k,\n",
    "        FeatureColumnName = nameof(DataPoint.Features),\n",
    "    });\n",
    "    var model = pipeline.Fit(processedData);\n",
    "    \n",
    "    //Get cluster centroids\n",
    "    VBuffer<float>[] centroids = default;\n",
    "    var modelParams = model.Model;\n",
    "    modelParams.GetClusterCentroids(ref centroids, out int clusters);\n",
    "\n",
    "    //Get cluster assignments\n",
    "    var transformed = model.Transform(processedData);\n",
    "    var clusterAssignments = transformed.GetColumn<uint>(\"PredictedLabel\").ToList();\n",
    "\n",
    "    return dataPoints\n",
    "        .Zip(clusterAssignments, (dataPoint, clusterId) => (clusterId, dataPoint))\n",
    "        .GroupBy(x => x.clusterId, x => x.dataPoint)\n",
    "        .Select(g => new Cluster(g.Key, centroids[g.Key-1/*we assume clusterId correlates with centroidIndex*/].DenseValues().ToArray(), g.ToArray()))\n",
    "        .OrderByDescending(c => c.DataPoints.Length)\n",
    "        .ToList();\n",
    "}"
   ]
  },
  {
   "cell_type": "code",
   "execution_count": 13,
   "metadata": {
    "polyglot_notebook": {
     "kernelName": "csharp"
    }
   },
   "outputs": [
    {
     "data": {
      "text/plain": [
       "K-means took 00:00:00.0990448 to build 10 clusters"
      ]
     },
     "metadata": {},
     "output_type": "display_data"
    }
   ],
   "source": [
    "var kmeansStopwatch = Stopwatch.StartNew();\n",
    "var dataPoints = embeddings.Select(e => new DataPoint((uint)e.paritionIndex, e.embedding));\n",
    "var clusters = Kmeans(dataPoints);\n",
    "var clusterCenters = clusters.Select(c => c.Centroid).ToList();\n",
    "kmeansStopwatch.Stop();\n",
    "display($\"K-means took {kmeansStopwatch.Elapsed} to build {clusterCenters.Count} clusters\");"
   ]
  },
  {
   "cell_type": "markdown",
   "metadata": {},
   "source": [
    "## Visualizing 2D\n",
    "\n",
    "For visualizing vectors in 2D we use [ScottPlot](https://scottplot.net/)."
   ]
  },
  {
   "cell_type": "code",
   "execution_count": 14,
   "metadata": {
    "polyglot_notebook": {
     "kernelName": "csharp"
    }
   },
   "outputs": [
    {
     "data": {
      "text/html": [
       "<div><div></div><div></div><div><strong>Installed Packages</strong><ul><li><span>ScottPlot, 5.0.55</span></li></ul></div></div>"
      ]
     },
     "metadata": {},
     "output_type": "display_data"
    },
    {
     "data": {
      "text/plain": [
       "Loading extensions from `C:\\Users\\manue\\.nuget\\packages\\skiasharp\\2.88.9\\interactive-extensions\\dotnet\\SkiaSharp.DotNet.Interactive.dll`"
      ]
     },
     "metadata": {},
     "output_type": "display_data"
    }
   ],
   "source": [
    "#r \"nuget: ScottPlot\""
   ]
  },
  {
   "cell_type": "code",
   "execution_count": 15,
   "metadata": {
    "polyglot_notebook": {
     "kernelName": "csharp"
    }
   },
   "outputs": [],
   "source": [
    "using Microsoft.DotNet.Interactive.Formatting;\n",
    "\n",
    "Formatter.Register(typeof(ScottPlot.Plot), (p, w) => w.Write(((ScottPlot.Plot)p).GetPngHtml(800, 600)), HtmlFormatter.MimeType);"
   ]
  },
  {
   "cell_type": "markdown",
   "metadata": {},
   "source": [
    "Principal Component Analysis (PCA) to reduce the 1024 dimensions of semantic vectors to two new dimensions that represent the most impactful dimensions. This transformation is lossy, so we expect clusters not overlap a little. That is ok, because we only use PCA to visualize our vectors in 2 dimensional space. All decisions are made in 1024 dimensional space."
   ]
  },
  {
   "cell_type": "code",
   "execution_count": 16,
   "metadata": {
    "polyglot_notebook": {
     "kernelName": "csharp"
    }
   },
   "outputs": [],
   "source": [
    "using Microsoft.ML.Transforms;\n",
    "\n",
    "record VectorWithPC([property:KeyType(2)] uint PartitionIndex, [property:VectorType(1024)] float[] Vector, [property:VectorType(2)] float[] PrincipalComponents);\n",
    "\n",
    "List<VectorWithPC> Pca(IEnumerable<DataPoint> dataPoints, int rank)\n",
    "{\n",
    "    var mlContext = new MLContext(seed: 0);\n",
    "    \n",
    "    //Load\n",
    "    var dataView = mlContext.Data.LoadFromEnumerable(dataPoints);\n",
    "    \n",
    "    //Train\n",
    "    var pca = mlContext.Transforms.ProjectToPrincipalComponents(nameof(DataPoint.Features), rank: rank, seed: 1);\n",
    "    var model = pca.Fit(dataView);\n",
    "    \n",
    "    //Get principal components\n",
    "    var transformed = model.Transform(dataView);\n",
    "    var principalComponents = transformed.GetColumn<float[]>(nameof(DataPoint.Features)).ToList();\n",
    "\n",
    "    return dataPoints.Zip(principalComponents, (d, pc) => new VectorWithPC(d.PartitionIndex, d.Features, pc)).ToList();\n",
    "}"
   ]
  },
  {
   "cell_type": "code",
   "execution_count": 17,
   "metadata": {
    "polyglot_notebook": {
     "kernelName": "csharp"
    }
   },
   "outputs": [
    {
     "data": {
      "text/html": [
       "<table><thead><tr><th><i>index</i></th><th>value</th></tr></thead><tbody><tr><td>0</td><td><details class=\"dni-treeview\"><summary><span class=\"dni-code-hint\"><code>VectorWithPC { PartitionIndex = 0, Vector = System.Single[], PrincipalComponents = System.Single[] }</code></span></summary><div><table><thead><tr></tr></thead><tbody><tr><td>PartitionIndex</td><td><div class=\"dni-plaintext\"><pre>0</pre></div></td></tr><tr><td>Vector</td><td><div class=\"dni-plaintext\"><pre>[ -0.022368683, 0.008402194, 0.017856564, 0.019630658, -0.012261558, 0.04566205, 0.003324321, -0.051679354, -0.03585515, -0.046184435, 0.023875214, 0.0061313817, 0.046334457, 0.023555033, -0.029963683, -0.02095379, -0.05458847, -0.031777926, 0.05641833, -0.009130555 ... (1004 more) ]</pre></div></td></tr><tr><td>PrincipalComponents</td><td><div class=\"dni-plaintext\"><pre>[ -0.0019570217, -0.37094945 ]</pre></div></td></tr></tbody></table></div></details></td></tr><tr><td>1</td><td><details class=\"dni-treeview\"><summary><span class=\"dni-code-hint\"><code>VectorWithPC { PartitionIndex = 1, Vector = System.Single[], PrincipalComponents = System.Single[] }</code></span></summary><div><table><thead><tr></tr></thead><tbody><tr><td>PartitionIndex</td><td><div class=\"dni-plaintext\"><pre>1</pre></div></td></tr><tr><td>Vector</td><td><div class=\"dni-plaintext\"><pre>[ 0.00091845944, 0.014315809, -0.0016524466, 0.042475842, -0.022037318, -0.00015973226, -0.0047988463, -0.047916334, -0.008189437, -0.049312163, 0.06940773, 0.04106665, 0.01918682, 0.0029068391, -0.01290314, -0.04814195, -0.021349372, -0.018703694, 0.047314283, -0.017007232 ... (1004 more) ]</pre></div></td></tr><tr><td>PrincipalComponents</td><td><div class=\"dni-plaintext\"><pre>[ 0.19562557, 0.019216664 ]</pre></div></td></tr></tbody></table></div></details></td></tr><tr><td>2</td><td><details class=\"dni-treeview\"><summary><span class=\"dni-code-hint\"><code>VectorWithPC { PartitionIndex = 2, Vector = System.Single[], PrincipalComponents = System.Single[] }</code></span></summary><div><table><thead><tr></tr></thead><tbody><tr><td>PartitionIndex</td><td><div class=\"dni-plaintext\"><pre>2</pre></div></td></tr><tr><td>Vector</td><td><div class=\"dni-plaintext\"><pre>[ 0.006071999, -0.025151715, 0.0500454, 0.01047808, 0.010324988, -0.044398014, 0.013335204, -0.045829225, 0.009758239, 0.00037875577, 0.0442665, 0.031743847, 0.01864334, 0.01737153, -0.0113384025, -0.02167322, -0.049411718, -0.038668115, 0.0409865, 0.014520646 ... (1004 more) ]</pre></div></td></tr><tr><td>PrincipalComponents</td><td><div class=\"dni-plaintext\"><pre>[ 0.24687394, 0.23066668 ]</pre></div></td></tr></tbody></table></div></details></td></tr></tbody></table><style>\r\n",
       ".dni-code-hint {\r\n",
       "    font-style: italic;\r\n",
       "    overflow: hidden;\r\n",
       "    white-space: nowrap;\r\n",
       "}\r\n",
       ".dni-treeview {\r\n",
       "    white-space: nowrap;\r\n",
       "}\r\n",
       ".dni-treeview td {\r\n",
       "    vertical-align: top;\r\n",
       "    text-align: start;\r\n",
       "}\r\n",
       "details.dni-treeview {\r\n",
       "    padding-left: 1em;\r\n",
       "}\r\n",
       "table td {\r\n",
       "    text-align: start;\r\n",
       "}\r\n",
       "table tr { \r\n",
       "    vertical-align: top; \r\n",
       "    margin: 0em 0px;\r\n",
       "}\r\n",
       "table tr td pre \r\n",
       "{ \r\n",
       "    vertical-align: top !important; \r\n",
       "    margin: 0em 0px !important;\r\n",
       "} \r\n",
       "table th {\r\n",
       "    text-align: start;\r\n",
       "}\r\n",
       "</style>"
      ]
     },
     "metadata": {},
     "output_type": "display_data"
    }
   ],
   "source": [
    "var principalComponents = Pca(dataPoints, rank: 2);\n",
    "display(principalComponents.Take(3));"
   ]
  },
  {
   "cell_type": "code",
   "execution_count": 18,
   "metadata": {
    "polyglot_notebook": {
     "kernelName": "csharp"
    }
   },
   "outputs": [
    {
     "data": {
      "text/html": [
       "<img class='' style='' src=\"data:image/png;base64,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\"></img>"
      ]
     },
     "metadata": {},
     "output_type": "display_data"
    }
   ],
   "source": [
    "var colorPalette = new ScottPlot.Palettes.Category10();\n",
    "var colors = colorPalette.Colors.ToArray();\n",
    "\n",
    "ScottPlot.Plot allDataPointsPlot = new();\n",
    "foreach (var cluster in clusters)\n",
    "{\n",
    "    var color = colors.ElementAt((int)cluster.ClusterId % colors.Length);\n",
    "    foreach (var clusterPoint in cluster.DataPoints)\n",
    "    {\n",
    "        var pc = principalComponents.Single(c => c.PartitionIndex == clusterPoint.PartitionIndex);\n",
    "        allDataPointsPlot.Add.Scatter(pc.PrincipalComponents[0], pc.PrincipalComponents[1], color: color);\n",
    "    }\n",
    "}\n",
    "\n",
    "allDataPointsPlot"
   ]
  },
  {
   "cell_type": "markdown",
   "metadata": {},
   "source": [
    "## Visualizing 3D\n",
    "\n",
    "For visualizing vectors in 3D we use [Plotly.NET](https://plotly.net/)."
   ]
  },
  {
   "cell_type": "code",
   "execution_count": 19,
   "metadata": {
    "polyglot_notebook": {
     "kernelName": "csharp"
    }
   },
   "outputs": [
    {
     "data": {
      "text/html": [
       "<div><div></div><div></div><div><strong>Installed Packages</strong><ul><li><span>Plotly.NET, 5.1.0</span></li><li><span>Plotly.NET.CSharp, 0.13.0</span></li><li><span>Plotly.NET.Interactive, 5.0.0</span></li></ul></div></div>"
      ]
     },
     "metadata": {},
     "output_type": "display_data"
    },
    {
     "data": {
      "text/plain": [
       "Loading extensions from `C:\\Users\\manue\\.nuget\\packages\\plotly.net.interactive\\5.0.0\\lib\\netstandard2.1\\Plotly.NET.Interactive.dll`"
      ]
     },
     "metadata": {},
     "output_type": "display_data"
    }
   ],
   "source": [
    "\n",
    "#r \"nuget: Plotly.NET\"\n",
    "#r \"nuget: Plotly.NET.Interactive\"\n",
    "#r \"nuget: Plotly.NET.CSharp\""
   ]
  },
  {
   "cell_type": "code",
   "execution_count": 20,
   "metadata": {
    "polyglot_notebook": {
     "kernelName": "csharp"
    }
   },
   "outputs": [
    {
     "data": {
      "text/html": [
       "<table><thead><tr><th><i>index</i></th><th>value</th></tr></thead><tbody><tr><td>0</td><td><details class=\"dni-treeview\"><summary><span class=\"dni-code-hint\"><code>VectorWithPC { PartitionIndex = 0, Vector = System.Single[], PrincipalComponents = System.Single[] }</code></span></summary><div><table><thead><tr></tr></thead><tbody><tr><td>PartitionIndex</td><td><div class=\"dni-plaintext\"><pre>0</pre></div></td></tr><tr><td>Vector</td><td><div class=\"dni-plaintext\"><pre>[ -0.022368683, 0.008402194, 0.017856564, 0.019630658, -0.012261558, 0.04566205, 0.003324321, -0.051679354, -0.03585515, -0.046184435, 0.023875214, 0.0061313817, 0.046334457, 0.023555033, -0.029963683, -0.02095379, -0.05458847, -0.031777926, 0.05641833, -0.009130555 ... (1004 more) ]</pre></div></td></tr><tr><td>PrincipalComponents</td><td><div class=\"dni-plaintext\"><pre>[ -0.0016224049, -0.3726408, 0.23311773 ]</pre></div></td></tr></tbody></table></div></details></td></tr><tr><td>1</td><td><details class=\"dni-treeview\"><summary><span class=\"dni-code-hint\"><code>VectorWithPC { PartitionIndex = 1, Vector = System.Single[], PrincipalComponents = System.Single[] }</code></span></summary><div><table><thead><tr></tr></thead><tbody><tr><td>PartitionIndex</td><td><div class=\"dni-plaintext\"><pre>1</pre></div></td></tr><tr><td>Vector</td><td><div class=\"dni-plaintext\"><pre>[ 0.00091845944, 0.014315809, -0.0016524466, 0.042475842, -0.022037318, -0.00015973226, -0.0047988463, -0.047916334, -0.008189437, -0.049312163, 0.06940773, 0.04106665, 0.01918682, 0.0029068391, -0.01290314, -0.04814195, -0.021349372, -0.018703694, 0.047314283, -0.017007232 ... (1004 more) ]</pre></div></td></tr><tr><td>PrincipalComponents</td><td><div class=\"dni-plaintext\"><pre>[ 0.19566786, 0.017905211, 0.37517813 ]</pre></div></td></tr></tbody></table></div></details></td></tr><tr><td>2</td><td><details class=\"dni-treeview\"><summary><span class=\"dni-code-hint\"><code>VectorWithPC { PartitionIndex = 2, Vector = System.Single[], PrincipalComponents = System.Single[] }</code></span></summary><div><table><thead><tr></tr></thead><tbody><tr><td>PartitionIndex</td><td><div class=\"dni-plaintext\"><pre>2</pre></div></td></tr><tr><td>Vector</td><td><div class=\"dni-plaintext\"><pre>[ 0.006071999, -0.025151715, 0.0500454, 0.01047808, 0.010324988, -0.044398014, 0.013335204, -0.045829225, 0.009758239, 0.00037875577, 0.0442665, 0.031743847, 0.01864334, 0.01737153, -0.0113384025, -0.02167322, -0.049411718, -0.038668115, 0.0409865, 0.014520646 ... (1004 more) ]</pre></div></td></tr><tr><td>PrincipalComponents</td><td><div class=\"dni-plaintext\"><pre>[ 0.2466535, 0.23186994, -0.12907109 ]</pre></div></td></tr></tbody></table></div></details></td></tr></tbody></table><style>\r\n",
       ".dni-code-hint {\r\n",
       "    font-style: italic;\r\n",
       "    overflow: hidden;\r\n",
       "    white-space: nowrap;\r\n",
       "}\r\n",
       ".dni-treeview {\r\n",
       "    white-space: nowrap;\r\n",
       "}\r\n",
       ".dni-treeview td {\r\n",
       "    vertical-align: top;\r\n",
       "    text-align: start;\r\n",
       "}\r\n",
       "details.dni-treeview {\r\n",
       "    padding-left: 1em;\r\n",
       "}\r\n",
       "table td {\r\n",
       "    text-align: start;\r\n",
       "}\r\n",
       "table tr { \r\n",
       "    vertical-align: top; \r\n",
       "    margin: 0em 0px;\r\n",
       "}\r\n",
       "table tr td pre \r\n",
       "{ \r\n",
       "    vertical-align: top !important; \r\n",
       "    margin: 0em 0px !important;\r\n",
       "} \r\n",
       "table th {\r\n",
       "    text-align: start;\r\n",
       "}\r\n",
       "</style>"
      ]
     },
     "metadata": {},
     "output_type": "display_data"
    }
   ],
   "source": [
    "var principalComponents3d = Pca(dataPoints, rank: 3);\n",
    "display(principalComponents3d.Take(3));"
   ]
  },
  {
   "cell_type": "code",
   "execution_count": 21,
   "metadata": {
    "polyglot_notebook": {
     "kernelName": "csharp"
    }
   },
   "outputs": [
    {
     "data": {
      "text/html": [
       "<div><div id=\"266da007-a1aa-4fdf-85f0-2cadc1561451\"><!-- Plotly chart will be drawn inside this DIV --></div><script type=\"text/javascript\">\n",
       "var renderPlotly_266da007a1aa4fdf85f02cadc1561451 = function() {\n",
       "    var fsharpPlotlyRequire = requirejs.config({context:'fsharp-plotly',paths:{plotly:'https://cdn.plot.ly/plotly-2.27.1.min'}}) || require;\n",
       "    fsharpPlotlyRequire(['plotly'], function(Plotly) {\n",
       "        var data = [{\"type\":\"scatter3d\",\"mode\":\"markers\",\"x\":[-0.0016224049,0.19566786,0.2466535,-0.17839321,0.13706669,0.1392613,-0.09254512,-0.0642621,0.4109866,-0.031809993,0.2308287,-0.033679605,0.17684662,-0.23815867,0.035123102,0.013468221,0.17741656,0.22159919,0.13607466,0.21626037,0.19918871,-0.08224943,-0.086041205,-0.21398422,-0.17158362,0.04170773,-0.097076885,-0.064345434,0.18081787,0.38984936,0.3357647,0.40685928,0.39267886,-0.0872395,-0.11261695,-0.06832575,-0.018189661,-0.3161057,-0.38476846,-0.27355766,-0.25067,-0.35947108,-0.1467253,-0.2456949,-0.0039169006,-0.04183832,0.3563249,0.12749004,0.2406913,0.4345712,0.61559474,0.36667386,0.10455746,-0.48353302,-0.47833818,-0.4130739,-0.38127333,-0.39091063,-0.41804793,-0.28256938,-0.2983426,-0.26688573,-0.30188742,-0.27001113,-0.30157787,-0.40549564,-0.48085317,-0.332789,-0.28567338,-0.26467708,-0.22413799,-0.3489164,-0.49728477,-0.31260204,0.07413509,0.26756883,0.34229484,0.5377056,0.590798,0.6026212,0.5508237,0.37288302,-0.15762034,-0.17481843,-0.0875058,-0.018313263,-0.019011684,0.20563132,0.5477679,0.22156191,-0.12973914,-0.13702714,0.15668768,0.1049372,0.07627197,0.1863493,0.18847996,0.17334592,-0.03260865,0.15110788,0.14382082,-0.07359285,-0.029456638,-0.0828353,-0.28754961,0.05395127,0.21994197],\"y\":[-0.3726408,0.017905211,0.23186994,-0.10152311,-0.19917998,0.22830448,0.16458942,0.1971924,0.24186563,-0.12381751,-0.31211072,-0.20684195,-0.14000124,0.09882773,-0.10041701,-0.22461665,-0.40813637,-0.33534637,-0.37464395,-0.31616879,-0.20188525,-0.47257304,-0.5415147,-0.516615,-0.44231853,-0.42583233,-0.5073261,-0.3172421,-0.30082625,-0.2092503,-0.20206884,-0.10928445,-0.108092226,-0.2185179,0.10151247,-0.19028056,0.068562955,0.043891534,0.06360264,0.1682116,0.29050222,0.26082522,0.24643955,0.17713287,0.08536753,0.06710851,0.25128576,0.15587115,0.047614634,0.22652921,0.29695752,0.1720134,0.17218643,0.10106649,0.19727087,0.01810667,0.12230382,0.18313795,0.0025748946,-0.004796412,0.057554416,0.05363688,-0.028357223,-0.057655722,-0.03654743,-0.054304436,0.029925842,0.23372328,0.14789307,0.25473347,0.2687475,0.25698337,0.27551726,0.1466909,0.12287992,0.19419867,0.20284021,0.38047498,0.3265562,0.30127692,0.31182438,0.39303792,0.24960351,0.23892492,0.16945654,-0.0044995286,-0.3052529,0.0917058,0.16966549,0.2579848,0.0939061,-0.32551184,-0.055300795,-0.1986945,-0.36470467,-0.1614582,-0.2569583,-0.17960009,-0.07724528,-0.37923652,-0.4076947,-0.14982611,0.31278068,0.21867746,0.18084615,0.20605266,0.22106579],\"z\":[0.23311773,0.37517813,-0.12907109,-0.10239558,0.19438839,-0.29895112,-0.15179087,-0.04219474,0.08835009,0.2941431,0.19986129,0.38451347,0.3751345,0.39370742,0.39247718,0.33367565,-0.28419954,-0.30968928,-0.36251894,-0.21658099,-0.19795467,-0.14455622,-0.074174374,-0.101318896,-0.085570365,-0.1269514,-0.10975599,-0.09268242,-0.04731652,-0.1633792,-0.15595597,0.04390946,0.104409486,0.35657886,0.4473224,0.32556763,0.35646304,-0.052762195,0.021847785,-0.095165014,0.022720218,0.14458063,0.3175501,0.14869419,0.3280237,0.115501314,0.1270302,0.10192284,0.037468344,0.10587558,-0.07370618,-0.32222188,-0.061389983,-0.06619793,-0.33056483,-0.13235024,-0.39473987,-0.3507427,-0.031438857,-0.45420817,-0.277977,-0.28191295,-0.2325567,-0.10322058,-0.04876308,0.009175867,-0.0135318935,0.06993112,-0.05391985,-0.034678966,0.08173999,-0.30508766,-0.13534757,-0.07372838,0.14532799,-0.1062274,-0.0159643,-0.13234338,-0.29281354,-0.28503054,-0.35422555,0.0689185,0.29668978,0.23546991,0.3202301,0.34953728,0.34270594,0.40828195,0.08537346,0.2672837,0.29136792,0.36172608,0.41801086,0.007704884,-0.10937181,0.012398422,-0.18909726,-0.2406682,-0.45600182,-0.16539946,-0.11812413,-0.057055146,-0.13462237,-0.19831923,-0.052561313,-0.2632782,-0.1327068],\"marker\":{\"color\":[\"rgba(255, 127, 14, 1.0)\",\"rgba(255, 127, 14, 1.0)\",\"rgba(127, 127, 127, 1.0)\",\"rgba(23, 190, 207, 1.0)\",\"rgba(227, 119, 194, 1.0)\",\"rgba(127, 127, 127, 1.0)\",\"rgba(23, 190, 207, 1.0)\",\"rgba(23, 190, 207, 1.0)\",\"rgba(127, 127, 127, 1.0)\",\"rgba(255, 127, 14, 1.0)\",\"rgba(44, 160, 44, 1.0)\",\"rgba(255, 127, 14, 1.0)\",\"rgba(255, 127, 14, 1.0)\",\"rgba(255, 127, 14, 1.0)\",\"rgba(255, 127, 14, 1.0)\",\"rgba(255, 127, 14, 1.0)\",\"rgba(44, 160, 44, 1.0)\",\"rgba(44, 160, 44, 1.0)\",\"rgba(44, 160, 44, 1.0)\",\"rgba(44, 160, 44, 1.0)\",\"rgba(44, 160, 44, 1.0)\",\"rgba(227, 119, 194, 1.0)\",\"rgba(227, 119, 194, 1.0)\",\"rgba(227, 119, 194, 1.0)\",\"rgba(227, 119, 194, 1.0)\",\"rgba(227, 119, 194, 1.0)\",\"rgba(227, 119, 194, 1.0)\",\"rgba(227, 119, 194, 1.0)\",\"rgba(227, 119, 194, 1.0)\",\"rgba(44, 160, 44, 1.0)\",\"rgba(44, 160, 44, 1.0)\",\"rgba(44, 160, 44, 1.0)\",\"rgba(44, 160, 44, 1.0)\",\"rgba(255, 127, 14, 1.0)\",\"rgba(255, 127, 14, 1.0)\",\"rgba(255, 127, 14, 1.0)\",\"rgba(255, 127, 14, 1.0)\",\"rgba(23, 190, 207, 1.0)\",\"rgba(23, 190, 207, 1.0)\",\"rgba(23, 190, 207, 1.0)\",\"rgba(23, 190, 207, 1.0)\",\"rgba(31, 119, 180, 1.0)\",\"rgba(140, 86, 75, 1.0)\",\"rgba(140, 86, 75, 1.0)\",\"rgba(255, 127, 14, 1.0)\",\"rgba(227, 119, 194, 1.0)\",\"rgba(127, 127, 127, 1.0)\",\"rgba(44, 160, 44, 1.0)\",\"rgba(227, 119, 194, 1.0)\",\"rgba(127, 127, 127, 1.0)\",\"rgba(127, 127, 127, 1.0)\",\"rgba(127, 127, 127, 1.0)\",\"rgba(127, 127, 127, 1.0)\",\"rgba(31, 119, 180, 1.0)\",\"rgba(31, 119, 180, 1.0)\",\"rgba(23, 190, 207, 1.0)\",\"rgba(31, 119, 180, 1.0)\",\"rgba(31, 119, 180, 1.0)\",\"rgba(23, 190, 207, 1.0)\",\"rgba(23, 190, 207, 1.0)\",\"rgba(23, 190, 207, 1.0)\",\"rgba(23, 190, 207, 1.0)\",\"rgba(23, 190, 207, 1.0)\",\"rgba(188, 189, 34, 1.0)\",\"rgba(188, 189, 34, 1.0)\",\"rgba(188, 189, 34, 1.0)\",\"rgba(188, 189, 34, 1.0)\",\"rgba(23, 190, 207, 1.0)\",\"rgba(23, 190, 207, 1.0)\",\"rgba(23, 190, 207, 1.0)\",\"rgba(23, 190, 207, 1.0)\",\"rgba(23, 190, 207, 1.0)\",\"rgba(31, 119, 180, 1.0)\",\"rgba(31, 119, 180, 1.0)\",\"rgba(227, 119, 194, 1.0)\",\"rgba(127, 127, 127, 1.0)\",\"rgba(127, 127, 127, 1.0)\",\"rgba(127, 127, 127, 1.0)\",\"rgba(127, 127, 127, 1.0)\",\"rgba(127, 127, 127, 1.0)\",\"rgba(127, 127, 127, 1.0)\",\"rgba(127, 127, 127, 1.0)\",\"rgba(148, 103, 189, 1.0)\",\"rgba(148, 103, 189, 1.0)\",\"rgba(148, 103, 189, 1.0)\",\"rgba(255, 127, 14, 1.0)\",\"rgba(255, 127, 14, 1.0)\",\"rgba(255, 127, 14, 1.0)\",\"rgba(127, 127, 127, 1.0)\",\"rgba(255, 127, 14, 1.0)\",\"rgba(255, 127, 14, 1.0)\",\"rgba(255, 127, 14, 1.0)\",\"rgba(255, 127, 14, 1.0)\",\"rgba(44, 160, 44, 1.0)\",\"rgba(44, 160, 44, 1.0)\",\"rgba(44, 160, 44, 1.0)\",\"rgba(44, 160, 44, 1.0)\",\"rgba(44, 160, 44, 1.0)\",\"rgba(44, 160, 44, 1.0)\",\"rgba(44, 160, 44, 1.0)\",\"rgba(44, 160, 44, 1.0)\",\"rgba(44, 160, 44, 1.0)\",\"rgba(23, 190, 207, 1.0)\",\"rgba(23, 190, 207, 1.0)\",\"rgba(140, 86, 75, 1.0)\",\"rgba(214, 39, 40, 1.0)\",\"rgba(214, 39, 40, 1.0)\"]},\"line\":{}}];\n",
       "        var layout = {\"width\":800,\"height\":600,\"template\":{\"layout\":{\"title\":{\"x\":0.05},\"font\":{\"color\":\"rgba(42, 63, 95, 1.0)\"},\"paper_bgcolor\":\"rgba(255, 255, 255, 1.0)\",\"plot_bgcolor\":\"rgba(229, 236, 246, 1.0)\",\"autotypenumbers\":\"strict\",\"colorscale\":{\"diverging\":[[0.0,\"#8e0152\"],[0.1,\"#c51b7d\"],[0.2,\"#de77ae\"],[0.3,\"#f1b6da\"],[0.4,\"#fde0ef\"],[0.5,\"#f7f7f7\"],[0.6,\"#e6f5d0\"],[0.7,\"#b8e186\"],[0.8,\"#7fbc41\"],[0.9,\"#4d9221\"],[1.0,\"#276419\"]],\"sequential\":[[0.0,\"#0d0887\"],[0.1111111111111111,\"#46039f\"],[0.2222222222222222,\"#7201a8\"],[0.3333333333333333,\"#9c179e\"],[0.4444444444444444,\"#bd3786\"],[0.5555555555555556,\"#d8576b\"],[0.6666666666666666,\"#ed7953\"],[0.7777777777777778,\"#fb9f3a\"],[0.8888888888888888,\"#fdca26\"],[1.0,\"#f0f921\"]],\"sequentialminus\":[[0.0,\"#0d0887\"],[0.1111111111111111,\"#46039f\"],[0.2222222222222222,\"#7201a8\"],[0.3333333333333333,\"#9c179e\"],[0.4444444444444444,\"#bd3786\"],[0.5555555555555556,\"#d8576b\"],[0.6666666666666666,\"#ed7953\"],[0.7777777777777778,\"#fb9f3a\"],[0.8888888888888888,\"#fdca26\"],[1.0,\"#f0f921\"]]},\"hovermode\":\"closest\",\"hoverlabel\":{\"align\":\"left\"},\"coloraxis\":{\"colorbar\":{\"outlinewidth\":0.0,\"ticks\":\"\"}},\"geo\":{\"showland\":true,\"landcolor\":\"rgba(229, 236, 246, 1.0)\",\"showlakes\":true,\"lakecolor\":\"rgba(255, 255, 255, 1.0)\",\"subunitcolor\":\"rgba(255, 255, 255, 1.0)\",\"bgcolor\":\"rgba(255, 255, 255, 1.0)\"},\"mapbox\":{\"style\":\"light\"},\"polar\":{\"bgcolor\":\"rgba(229, 236, 246, 1.0)\",\"radialaxis\":{\"linecolor\":\"rgba(255, 255, 255, 1.0)\",\"gridcolor\":\"rgba(255, 255, 255, 1.0)\",\"ticks\":\"\"},\"angularaxis\":{\"linecolor\":\"rgba(255, 255, 255, 1.0)\",\"gridcolor\":\"rgba(255, 255, 255, 1.0)\",\"ticks\":\"\"}},\"scene\":{\"xaxis\":{\"ticks\":\"\",\"linecolor\":\"rgba(255, 255, 255, 1.0)\",\"gridcolor\":\"rgba(255, 255, 255, 1.0)\",\"gridwidth\":2.0,\"zerolinecolor\":\"rgba(255, 255, 255, 1.0)\",\"backgroundcolor\":\"rgba(229, 236, 246, 1.0)\",\"showbackground\":true},\"yaxis\":{\"ticks\":\"\",\"linecolor\":\"rgba(255, 255, 255, 1.0)\",\"gridcolor\":\"rgba(255, 255, 255, 1.0)\",\"gridwidth\":2.0,\"zerolinecolor\":\"rgba(255, 255, 255, 1.0)\",\"backgroundcolor\":\"rgba(229, 236, 246, 1.0)\",\"showbackground\":true},\"zaxis\":{\"ticks\":\"\",\"linecolor\":\"rgba(255, 255, 255, 1.0)\",\"gridcolor\":\"rgba(255, 255, 255, 1.0)\",\"gridwidth\":2.0,\"zerolinecolor\":\"rgba(255, 255, 255, 1.0)\",\"backgroundcolor\":\"rgba(229, 236, 246, 1.0)\",\"showbackground\":true}},\"ternary\":{\"aaxis\":{\"ticks\":\"\",\"linecolor\":\"rgba(255, 255, 255, 1.0)\",\"gridcolor\":\"rgba(255, 255, 255, 1.0)\"},\"baxis\":{\"ticks\":\"\",\"linecolor\":\"rgba(255, 255, 255, 1.0)\",\"gridcolor\":\"rgba(255, 255, 255, 1.0)\"},\"caxis\":{\"ticks\":\"\",\"linecolor\":\"rgba(255, 255, 255, 1.0)\",\"gridcolor\":\"rgba(255, 255, 255, 1.0)\"},\"bgcolor\":\"rgba(229, 236, 246, 1.0)\"},\"xaxis\":{\"title\":{\"standoff\":15},\"ticks\":\"\",\"automargin\":\"height+width+left+right+top+bottom\",\"linecolor\":\"rgba(255, 255, 255, 1.0)\",\"gridcolor\":\"rgba(255, 255, 255, 1.0)\",\"zerolinecolor\":\"rgba(255, 255, 255, 1.0)\",\"zerolinewidth\":2.0},\"yaxis\":{\"title\":{\"standoff\":15},\"ticks\":\"\",\"automargin\":\"height+width+left+right+top+bottom\",\"linecolor\":\"rgba(255, 255, 255, 1.0)\",\"gridcolor\":\"rgba(255, 255, 255, 1.0)\",\"zerolinecolor\":\"rgba(255, 255, 255, 1.0)\",\"zerolinewidth\":2.0},\"annotationdefaults\":{\"arrowcolor\":\"#2a3f5f\",\"arrowhead\":0,\"arrowwidth\":1},\"shapedefaults\":{\"line\":{\"color\":\"rgba(42, 63, 95, 1.0)\"}},\"colorway\":[\"rgba(99, 110, 250, 1.0)\",\"rgba(239, 85, 59, 1.0)\",\"rgba(0, 204, 150, 1.0)\",\"rgba(171, 99, 250, 1.0)\",\"rgba(255, 161, 90, 1.0)\",\"rgba(25, 211, 243, 1.0)\",\"rgba(255, 102, 146, 1.0)\",\"rgba(182, 232, 128, 1.0)\",\"rgba(255, 151, 255, 1.0)\",\"rgba(254, 203, 82, 1.0)\"]},\"data\":{\"bar\":[{\"marker\":{\"line\":{\"color\":\"rgba(229, 236, 246, 1.0)\",\"width\":0.5},\"pattern\":{\"fillmode\":\"overlay\",\"size\":10,\"solidity\":0.2}},\"error_x\":{\"color\":\"rgba(42, 63, 95, 1.0)\"},\"error_y\":{\"color\":\"rgba(42, 63, 95, 1.0)\"}}],\"barpolar\":[{\"marker\":{\"line\":{\"color\":\"rgba(229, 236, 246, 1.0)\",\"width\":0.5},\"pattern\":{\"fillmode\":\"overlay\",\"size\":10,\"solidity\":0.2}}}],\"carpet\":[{\"aaxis\":{\"linecolor\":\"rgba(255, 255, 255, 1.0)\",\"gridcolor\":\"rgba(255, 255, 255, 1.0)\",\"endlinecolor\":\"rgba(42, 63, 95, 1.0)\",\"minorgridcolor\":\"rgba(255, 255, 255, 1.0)\",\"startlinecolor\":\"rgba(42, 63, 95, 1.0)\"},\"baxis\":{\"linecolor\":\"rgba(255, 255, 255, 1.0)\",\"gridcolor\":\"rgba(255, 255, 255, 1.0)\",\"endlinecolor\":\"rgba(42, 63, 95, 1.0)\",\"minorgridcolor\":\"rgba(255, 255, 255, 1.0)\",\"startlinecolor\":\"rgba(42, 63, 95, 1.0)\"}}],\"choropleth\":[{\"colorbar\":{\"outlinewidth\":0.0,\"ticks\":\"\"},\"colorscale\":[[0.0,\"#0d0887\"],[0.1111111111111111,\"#46039f\"],[0.2222222222222222,\"#7201a8\"],[0.3333333333333333,\"#9c179e\"],[0.4444444444444444,\"#bd3786\"],[0.5555555555555556,\"#d8576b\"],[0.6666666666666666,\"#ed7953\"],[0.7777777777777778,\"#fb9f3a\"],[0.8888888888888888,\"#fdca26\"],[1.0,\"#f0f921\"]]}],\"contour\":[{\"colorbar\":{\"outlinewidth\":0.0,\"ticks\":\"\"},\"colorscale\":[[0.0,\"#0d0887\"],[0.1111111111111111,\"#46039f\"],[0.2222222222222222,\"#7201a8\"],[0.3333333333333333,\"#9c179e\"],[0.4444444444444444,\"#bd3786\"],[0.5555555555555556,\"#d8576b\"],[0.6666666666666666,\"#ed7953\"],[0.7777777777777778,\"#fb9f3a\"],[0.8888888888888888,\"#fdca26\"],[1.0,\"#f0f921\"]]}],\"contourcarpet\":[{\"colorbar\":{\"outlinewidth\":0.0,\"ticks\":\"\"}}],\"heatmap\":[{\"colorbar\":{\"outlinewidth\":0.0,\"ticks\":\"\"},\"colorscale\":[[0.0,\"#0d0887\"],[0.1111111111111111,\"#46039f\"],[0.2222222222222222,\"#7201a8\"],[0.3333333333333333,\"#9c179e\"],[0.4444444444444444,\"#bd3786\"],[0.5555555555555556,\"#d8576b\"],[0.6666666666666666,\"#ed7953\"],[0.7777777777777778,\"#fb9f3a\"],[0.8888888888888888,\"#fdca26\"],[1.0,\"#f0f921\"]]}],\"heatmapgl\":[{\"colorbar\":{\"outlinewidth\":0.0,\"ticks\":\"\"},\"colorscale\":[[0.0,\"#0d0887\"],[0.1111111111111111,\"#46039f\"],[0.2222222222222222,\"#7201a8\"],[0.3333333333333333,\"#9c179e\"],[0.4444444444444444,\"#bd3786\"],[0.5555555555555556,\"#d8576b\"],[0.6666666666666666,\"#ed7953\"],[0.7777777777777778,\"#fb9f3a\"],[0.8888888888888888,\"#fdca26\"],[1.0,\"#f0f921\"]]}],\"histogram\":[{\"marker\":{\"pattern\":{\"fillmode\":\"overlay\",\"size\":10,\"solidity\":0.2}}}],\"histogram2d\":[{\"colorbar\":{\"outlinewidth\":0.0,\"ticks\":\"\"},\"colorscale\":[[0.0,\"#0d0887\"],[0.1111111111111111,\"#46039f\"],[0.2222222222222222,\"#7201a8\"],[0.3333333333333333,\"#9c179e\"],[0.4444444444444444,\"#bd3786\"],[0.5555555555555556,\"#d8576b\"],[0.6666666666666666,\"#ed7953\"],[0.7777777777777778,\"#fb9f3a\"],[0.8888888888888888,\"#fdca26\"],[1.0,\"#f0f921\"]]}],\"histogram2dcontour\":[{\"colorbar\":{\"outlinewidth\":0.0,\"ticks\":\"\"},\"colorscale\":[[0.0,\"#0d0887\"],[0.1111111111111111,\"#46039f\"],[0.2222222222222222,\"#7201a8\"],[0.3333333333333333,\"#9c179e\"],[0.4444444444444444,\"#bd3786\"],[0.5555555555555556,\"#d8576b\"],[0.6666666666666666,\"#ed7953\"],[0.7777777777777778,\"#fb9f3a\"],[0.8888888888888888,\"#fdca26\"],[1.0,\"#f0f921\"]]}],\"mesh3d\":[{\"colorbar\":{\"outlinewidth\":0.0,\"ticks\":\"\"}}],\"parcoords\":[{\"line\":{\"colorbar\":{\"outlinewidth\":0.0,\"ticks\":\"\"}}}],\"pie\":[{\"automargin\":true}],\"scatter\":[{\"marker\":{\"colorbar\":{\"outlinewidth\":0.0,\"ticks\":\"\"}}}],\"scatter3d\":[{\"marker\":{\"colorbar\":{\"outlinewidth\":0.0,\"ticks\":\"\"}},\"line\":{\"colorbar\":{\"outlinewidth\":0.0,\"ticks\":\"\"}}}],\"scattercarpet\":[{\"marker\":{\"colorbar\":{\"outlinewidth\":0.0,\"ticks\":\"\"}}}],\"scattergeo\":[{\"marker\":{\"colorbar\":{\"outlinewidth\":0.0,\"ticks\":\"\"}}}],\"scattergl\":[{\"marker\":{\"colorbar\":{\"outlinewidth\":0.0,\"ticks\":\"\"}}}],\"scattermapbox\":[{\"marker\":{\"colorbar\":{\"outlinewidth\":0.0,\"ticks\":\"\"}}}],\"scatterpolar\":[{\"marker\":{\"colorbar\":{\"outlinewidth\":0.0,\"ticks\":\"\"}}}],\"scatterpolargl\":[{\"marker\":{\"colorbar\":{\"outlinewidth\":0.0,\"ticks\":\"\"}}}],\"scatterternary\":[{\"marker\":{\"colorbar\":{\"outlinewidth\":0.0,\"ticks\":\"\"}}}],\"surface\":[{\"colorbar\":{\"outlinewidth\":0.0,\"ticks\":\"\"},\"colorscale\":[[0.0,\"#0d0887\"],[0.1111111111111111,\"#46039f\"],[0.2222222222222222,\"#7201a8\"],[0.3333333333333333,\"#9c179e\"],[0.4444444444444444,\"#bd3786\"],[0.5555555555555556,\"#d8576b\"],[0.6666666666666666,\"#ed7953\"],[0.7777777777777778,\"#fb9f3a\"],[0.8888888888888888,\"#fdca26\"],[1.0,\"#f0f921\"]]}],\"table\":[{\"cells\":{\"fill\":{\"color\":\"rgba(235, 240, 248, 1.0)\"},\"line\":{\"color\":\"rgba(255, 255, 255, 1.0)\"}},\"header\":{\"fill\":{\"color\":\"rgba(200, 212, 227, 1.0)\"},\"line\":{\"color\":\"rgba(255, 255, 255, 1.0)\"}}}]}},\"scene\":{\"camera\":{\"projection\":{\"type\":\"perspective\"}}},\"margin\":{\"l\":0.0,\"r\":0.0,\"t\":0.0,\"b\":0.0,\"pad\":0.0,\"autoexpand\":0.0}};\n",
       "        var config = {\"responsive\":true};\n",
       "        Plotly.newPlot('266da007-a1aa-4fdf-85f0-2cadc1561451', data, layout, config);\n",
       "    });\n",
       "};\n",
       "if ((typeof(requirejs) !==  typeof(Function)) || (typeof(requirejs.config) !== typeof(Function))) {\n",
       "    var script = document.createElement(\"script\");\n",
       "    script.setAttribute(\"charset\", \"utf-8\");\n",
       "    script.setAttribute(\"src\", \"https://cdnjs.cloudflare.com/ajax/libs/require.js/2.3.6/require.min.js\");\n",
       "    script.onload = function(){\n",
       "        renderPlotly_266da007a1aa4fdf85f02cadc1561451();\n",
       "    };\n",
       "    document.getElementsByTagName(\"head\")[0].appendChild(script);\n",
       "}\n",
       "else {\n",
       "    renderPlotly_266da007a1aa4fdf85f02cadc1561451();\n",
       "}\n",
       "</script></div>"
      ]
     },
     "metadata": {},
     "output_type": "display_data"
    }
   ],
   "source": [
    "using Plotly.NET;\n",
    "using Plotly.NET.CSharp;\n",
    "\n",
    "var xs = principalComponents3d.Select(p => p.PrincipalComponents[0]).ToList();\n",
    "var ys = principalComponents3d.Select(p => p.PrincipalComponents[1]).ToList();\n",
    "var zs = principalComponents3d.Select(p => p.PrincipalComponents[2]).ToList();\n",
    "var pointColors3d = principalComponents3d\n",
    "    .Select(p => clusters.First(c => c.DataPoints.Any(dp => dp.PartitionIndex == p.PartitionIndex)))\n",
    "    .Select(c => colors[(int)c.ClusterId % colors.Length])\n",
    "    .Select(c => Color.fromARGB(c.A, c.R, c.G, c.B));\n",
    "\n",
    "Chart3D.Chart.Scatter3D<float, float, float, string>(\n",
    "    xs, ys, zs,\n",
    "    mode: Plotly.NET.StyleParam.Mode.Markers,\n",
    "    MarkerColor: Color.fromColors(pointColors3d)\n",
    ")\n",
    ".WithSize(800, 600)\n",
    ".WithMarginSize<float, float, float, float, float, float>(0, 0, 0, 0, 0, 0)"
   ]
  },
  {
   "cell_type": "markdown",
   "metadata": {},
   "source": [
    "## Indexing\n",
    "\n",
    "For each semantic cluster we find a representative that is the nearest neighbour of the cluster center. We use [HNSW.Net](https://github.com/curiosity-ai/hnsw-sharp) for fast vector search in memory."
   ]
  },
  {
   "cell_type": "code",
   "execution_count": 22,
   "metadata": {
    "polyglot_notebook": {
     "kernelName": "csharp"
    }
   },
   "outputs": [
    {
     "data": {
      "text/html": [
       "<div><div></div><div></div><div><strong>Installed Packages</strong><ul><li><span>HNSW, 25.3.56901</span></li></ul></div></div>"
      ]
     },
     "metadata": {},
     "output_type": "display_data"
    }
   ],
   "source": [
    "#r \"nuget: HNSW\""
   ]
  },
  {
   "cell_type": "code",
   "execution_count": 23,
   "metadata": {
    "polyglot_notebook": {
     "kernelName": "csharp"
    }
   },
   "outputs": [],
   "source": [
    "using HNSW.Net;\n",
    "\n",
    "Func<float[], Embedding> Hnsw(List<Embedding> embeddings)\n",
    "{\n",
    "    // Parameter explanation https://github.com/curiosity-ai/hnsw-sharp/blob/master/Src/HNSW.Net/SmallWorld.cs#L216\n",
    "    var parameters = new SmallWorld<Embedding, float>.Parameters()\n",
    "    {\n",
    "        M = 15,\n",
    "        LevelLambda = 1 / Math.Log(15),\n",
    "    };\n",
    "\n",
    "    var graph = new SmallWorld<Embedding, float>((e1, e2) => CosineDistance.NonOptimized(e1.embedding, e2.embedding), DefaultRandomGenerator.Instance, parameters);\n",
    "    graph.AddItems(embeddings);\n",
    "    \n",
    "    return search =>\n",
    "    {\n",
    "        var searchEmbedding = new Embedding(search, -1, -1);\n",
    "        var nn = graph.KNNSearch(searchEmbedding, 1).Single();\n",
    "        return nn.Item;\n",
    "    };\n",
    "}"
   ]
  },
  {
   "cell_type": "code",
   "execution_count": 24,
   "metadata": {
    "polyglot_notebook": {
     "kernelName": "csharp"
    }
   },
   "outputs": [
    {
     "data": {
      "text/plain": [
       "Building HNSW index with 107 items and finding 10 'cluster center nearest neighbours' took 00:00:00.5680560."
      ]
     },
     "metadata": {},
     "output_type": "display_data"
    },
    {
     "data": {
      "text/html": [
       "<div class=\"dni-plaintext\"><pre>[ 14, 22, 43, 65, 69, 72, 77, 81, 82, 99 ]</pre></div><style>\r\n",
       ".dni-code-hint {\r\n",
       "    font-style: italic;\r\n",
       "    overflow: hidden;\r\n",
       "    white-space: nowrap;\r\n",
       "}\r\n",
       ".dni-treeview {\r\n",
       "    white-space: nowrap;\r\n",
       "}\r\n",
       ".dni-treeview td {\r\n",
       "    vertical-align: top;\r\n",
       "    text-align: start;\r\n",
       "}\r\n",
       "details.dni-treeview {\r\n",
       "    padding-left: 1em;\r\n",
       "}\r\n",
       "table td {\r\n",
       "    text-align: start;\r\n",
       "}\r\n",
       "table tr { \r\n",
       "    vertical-align: top; \r\n",
       "    margin: 0em 0px;\r\n",
       "}\r\n",
       "table tr td pre \r\n",
       "{ \r\n",
       "    vertical-align: top !important; \r\n",
       "    margin: 0em 0px !important;\r\n",
       "} \r\n",
       "table th {\r\n",
       "    text-align: start;\r\n",
       "}\r\n",
       "</style>"
      ]
     },
     "metadata": {},
     "output_type": "display_data"
    }
   ],
   "source": [
    "var nnStopwatch = Stopwatch.StartNew();\n",
    "var nn = Hnsw(embeddings);\n",
    "var clusterRepresentatives = clusterCenters\n",
    "    .Select(nn)\n",
    "    .Select(crnn => new { crnn.paritionIndex, partition = partitions.ElementAt(crnn.paritionIndex) })\n",
    "    .ToList();\n",
    "nnStopwatch.Stop();\n",
    "\n",
    "display($\"Building HNSW index with {embeddings.Count} items and finding {clusterRepresentatives.Count} 'cluster center nearest neighbours' took {nnStopwatch.Elapsed}.\");\n",
    "display(clusterRepresentatives.Select(cr => cr.paritionIndex).Order());"
   ]
  },
  {
   "cell_type": "markdown",
   "metadata": {},
   "source": [
    "Alternatively we dont use an index. Since we only have a few embeddings, it might even be faster to calculate cosine similarities directly. It is limited by $O(k \\cdot |E|)$ with $k$ being the count of semantic clusters and $E$ the set of embeddings."
   ]
  },
  {
   "cell_type": "code",
   "execution_count": 25,
   "metadata": {
    "polyglot_notebook": {
     "kernelName": "csharp"
    }
   },
   "outputs": [
    {
     "data": {
      "text/html": [
       "<div><div></div><div></div><div><strong>Installed Packages</strong><ul><li><span>system.numerics.tensors, 9.0.0</span></li></ul></div></div>"
      ]
     },
     "metadata": {},
     "output_type": "display_data"
    }
   ],
   "source": [
    "#r \"nuget: System.Numerics.Tensors\""
   ]
  },
  {
   "cell_type": "code",
   "execution_count": 26,
   "metadata": {
    "polyglot_notebook": {
     "kernelName": "csharp"
    }
   },
   "outputs": [],
   "source": [
    "using System.Numerics.Tensors;\n",
    "\n",
    "Func<float[], Embedding> BruteForce(List<Embedding> embeddings)\n",
    "{\n",
    "    return search => embeddings.OrderByDescending(e => TensorPrimitives.CosineSimilarity(search, e.embedding)).First();\n",
    "}"
   ]
  },
  {
   "cell_type": "code",
   "execution_count": 27,
   "metadata": {
    "polyglot_notebook": {
     "kernelName": "csharp"
    }
   },
   "outputs": [
    {
     "data": {
      "text/plain": [
       "Brute-force finding 10 'cluster center nearest neighbours' took 00:00:00.0036953."
      ]
     },
     "metadata": {},
     "output_type": "display_data"
    },
    {
     "data": {
      "text/html": [
       "<div class=\"dni-plaintext\"><pre>[ 14, 22, 43, 65, 69, 72, 77, 82, 99, 106 ]</pre></div><style>\r\n",
       ".dni-code-hint {\r\n",
       "    font-style: italic;\r\n",
       "    overflow: hidden;\r\n",
       "    white-space: nowrap;\r\n",
       "}\r\n",
       ".dni-treeview {\r\n",
       "    white-space: nowrap;\r\n",
       "}\r\n",
       ".dni-treeview td {\r\n",
       "    vertical-align: top;\r\n",
       "    text-align: start;\r\n",
       "}\r\n",
       "details.dni-treeview {\r\n",
       "    padding-left: 1em;\r\n",
       "}\r\n",
       "table td {\r\n",
       "    text-align: start;\r\n",
       "}\r\n",
       "table tr { \r\n",
       "    vertical-align: top; \r\n",
       "    margin: 0em 0px;\r\n",
       "}\r\n",
       "table tr td pre \r\n",
       "{ \r\n",
       "    vertical-align: top !important; \r\n",
       "    margin: 0em 0px !important;\r\n",
       "} \r\n",
       "table th {\r\n",
       "    text-align: start;\r\n",
       "}\r\n",
       "</style>"
      ]
     },
     "metadata": {},
     "output_type": "display_data"
    }
   ],
   "source": [
    "var nnStopwatch = Stopwatch.StartNew();\n",
    "var nn = BruteForce(embeddings);\n",
    "var clusterRepresentatives = clusterCenters\n",
    "    .Select(nn)\n",
    "    .Select(crnn => new { crnn.paritionIndex, partition = partitions.ElementAt(crnn.paritionIndex) })\n",
    "    .ToList();\n",
    "nnStopwatch.Stop();\n",
    "\n",
    "display($\"Brute-force finding {clusterRepresentatives.Count} 'cluster center nearest neighbours' took {nnStopwatch.Elapsed}.\");\n",
    "display(clusterRepresentatives.Select(cr => cr.paritionIndex).Order());"
   ]
  },
  {
   "cell_type": "code",
   "execution_count": 28,
   "metadata": {
    "polyglot_notebook": {
     "kernelName": "csharp"
    }
   },
   "outputs": [
    {
     "data": {
      "text/html": [
       "<img class='' style='' src=\"data:image/png;base64,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\"></img>"
      ]
     },
     "metadata": {},
     "output_type": "display_data"
    }
   ],
   "source": [
    "ScottPlot.Plot clusterRepresentativePlot = new();\n",
    "int i = 0;\n",
    "foreach (var clusterRepresentative in clusterRepresentatives)\n",
    "{\n",
    "    var color = colors.ElementAt(i++ % colors.Length);\n",
    "    var pc = principalComponents.Single(c => c.PartitionIndex == clusterRepresentative.paritionIndex);\n",
    "    clusterRepresentativePlot.Add.Scatter(pc.PrincipalComponents[0], pc.PrincipalComponents[1], color: color);\n",
    "}\n",
    "\n",
    "clusterRepresentativePlot"
   ]
  },
  {
   "cell_type": "markdown",
   "metadata": {},
   "source": [
    "## Summarizing\n",
    "\n",
    "For summarization we use [Anthropic Claude 3.5 Sonnet](https://docs.aws.amazon.com/bedrock/latest/userguide/model-parameters-claude.html) on Amazon Bedrock."
   ]
  },
  {
   "cell_type": "code",
   "execution_count": 29,
   "metadata": {
    "polyglot_notebook": {
     "kernelName": "csharp"
    }
   },
   "outputs": [],
   "source": [
    "record SummarizeResponse(string summary, int inputTokens, int outputTokens);\n",
    "\n",
    "async Task<SummarizeResponse> Summarize(string text, CancellationToken cancellationToken = default)\n",
    "{\n",
    "    const string prompt = \n",
    "        \"\"\"\n",
    "        Provide a summary of the following text. Your result must be detailed and atleast 2 paragraphs.\n",
    "        When summarizing, directly dive into the narrative or descriptions from the text without using\n",
    "        introductory phrases like 'In this passage'. Directly address the main events, characters, and\n",
    "        themes, encapsulating the essence and significant details from the text in a flowing narrative.\n",
    "        The goal is to present a unified view of the content, continuing the story seamlessly as if the\n",
    "        passage naturally progresses into the summary.\n",
    "        \"\"\";\n",
    "\n",
    "    var ask =\n",
    "        $\"\"\"\n",
    "        {prompt}\n",
    "        \n",
    "        Passage:\n",
    "        {text}\n",
    "        \"\"\";\n",
    "\n",
    "    var response = await bedrock.ConverseAsync(new ConverseRequest\n",
    "    {\n",
    "        ModelId = \"anthropic.claude-3-5-sonnet-20240620-v1:0\",\n",
    "        Messages = [new() { Role = ConversationRole.User, Content = [new ContentBlock { Text = ask }] }],\n",
    "        InferenceConfig = new InferenceConfiguration { Temperature = 0.0F, MaxTokens = 512, },\n",
    "    }, cancellationToken);\n",
    "\n",
    "    var responseMessage = string.Concat(response.Output.Message.Content.Select(c => c.Text));\n",
    "\n",
    "    return new SummarizeResponse(responseMessage, response.Usage.InputTokens, response.Usage.OutputTokens);\n",
    "}"
   ]
  },
  {
   "cell_type": "code",
   "execution_count": 30,
   "metadata": {
    "polyglot_notebook": {
     "kernelName": "csharp"
    }
   },
   "outputs": [
    {
     "data": {
      "text/plain": [
       "Summarizing 10 cluster representatives took 00:00:06.4941324, 8984 input tokens and 2823 output tokens."
      ]
     },
     "metadata": {},
     "output_type": "display_data"
    }
   ],
   "source": [
    "record PartitionSummary(SummarizeResponse summary, int paritionIndex);\n",
    "\n",
    "var summarizeStopwatch = Stopwatch.StartNew();\n",
    "var summaryTasks = clusterRepresentatives\n",
    "    .Select(async clusterRepresentative =>\n",
    "    {\n",
    "        var summary = await Summarize(clusterRepresentative.partition);\n",
    "        return new PartitionSummary(summary, clusterRepresentative.paritionIndex);\n",
    "    })\n",
    "    .ToList();\n",
    "await Task.WhenAll(summaryTasks);\n",
    "var summaries = summaryTasks\n",
    "    .Select(t => t.Result)\n",
    "    .OrderBy(s => s.paritionIndex)//keeping the order of the original partitions of source document\n",
    "    .ToList();\n",
    "\n",
    "var concatenatedSummary = string.Join(\"\\n\\n\", summaries.Select(s => s.summary.summary));\n",
    "var totalInputTokens = summaries.Sum(s => s.summary.inputTokens);\n",
    "var totalOutputTokens = summaries.Sum(s => s.summary.outputTokens);\n",
    "summarizeStopwatch.Stop();\n",
    "\n",
    "display($\"Summarizing {clusterRepresentatives.Count} cluster representatives took {summarizeStopwatch.Elapsed}, {totalInputTokens} input tokens and {totalOutputTokens} output tokens.\");\n",
    "//display(concatenatedSummary);"
   ]
  }
 ],
 "metadata": {
  "kernelspec": {
   "display_name": ".NET (C#)",
   "language": "C#",
   "name": ".net-csharp"
  },
  "polyglot_notebook": {
   "kernelInfo": {
    "defaultKernelName": "csharp",
    "items": [
     {
      "aliases": [],
      "languageName": "csharp",
      "name": "csharp"
     }
    ]
   }
  }
 },
 "nbformat": 4,
 "nbformat_minor": 2
}

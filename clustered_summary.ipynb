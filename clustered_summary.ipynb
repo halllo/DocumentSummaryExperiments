{
 "cells": [
  {
   "cell_type": "markdown",
   "metadata": {},
   "source": [
    "# Clustered Summary\n",
    "\n",
    "This is an attempt to implement the idea of [How to Summarize Large Documents with LangChain and OpenAI](https://medium.com/@myscale/how-to-summarize-large-documents-with-langchain-and-openai-4312568e80b1) in dotnet with Amazon Bedrock."
   ]
  },
  {
   "cell_type": "markdown",
   "metadata": {},
   "source": [
    "## Parsing\n",
    "\n",
    "For PDF parsing we use [PdfPig](https://github.com/UglyToad/PdfPig). See the [NOTICE](NOTICE) file for license information."
   ]
  },
  {
   "cell_type": "code",
   "execution_count": 1,
   "metadata": {
    "polyglot_notebook": {
     "kernelName": "csharp"
    }
   },
   "outputs": [
    {
     "data": {
      "text/html": [
       "<div><div></div><div></div><div><strong>Installed Packages</strong><ul><li><span>PdfPig, 0.1.10</span></li></ul></div></div>"
      ]
     },
     "metadata": {},
     "output_type": "display_data"
    }
   ],
   "source": [
    "#r \"nuget: PdfPig\""
   ]
  },
  {
   "cell_type": "code",
   "execution_count": 2,
   "metadata": {
    "polyglot_notebook": {
     "kernelName": "csharp"
    }
   },
   "outputs": [],
   "source": [
    "using System.IO;\n",
    "using UglyToad.PdfPig;\n",
    "\n",
    "string GetText(FileInfo file)\n",
    "{\n",
    "    var text = new StringBuilder();\n",
    "\n",
    "    using (var pdfDocument = PdfDocument.Open(file.FullName))\n",
    "    {\n",
    "        foreach (var page in pdfDocument.GetPages())\n",
    "        {\n",
    "            // word grouping by bottom coordinates taken from https://stackoverflow.com/a/75043692/6466378\n",
    "            var wordsList = page.GetWords().GroupBy(x => x.BoundingBox.Bottom);\n",
    "            foreach (var word in wordsList)\n",
    "            {\n",
    "                foreach (var item in word)\n",
    "                {\n",
    "                    text.Append(item.Text + \" \");\n",
    "                }\n",
    "                text.Append(\"\\n\");\n",
    "            }\n",
    "        }\n",
    "    }\n",
    "    return text.ToString();\n",
    "}"
   ]
  },
  {
   "cell_type": "code",
   "execution_count": 3,
   "metadata": {
    "polyglot_notebook": {
     "kernelName": "csharp"
    }
   },
   "outputs": [
    {
     "data": {
      "text/plain": [
       "299821 characters"
      ]
     },
     "metadata": {},
     "output_type": "display_data"
    }
   ],
   "source": [
    "var file = new FileInfo(\"documents\\\\Towards Trust in Legal AI - Enhancing LLMs with Retrieval Augmented Generation.pdf\");\n",
    "var text = GetText(file);\n",
    "display($\"{text.Length} characters\");"
   ]
  },
  {
   "cell_type": "markdown",
   "metadata": {},
   "source": [
    "## Partitioning\n",
    "\n",
    "For text paritioning/chunking we use [SemanticKernel](https://github.com/microsoft/semantic-kernel)."
   ]
  },
  {
   "cell_type": "code",
   "execution_count": 4,
   "metadata": {
    "polyglot_notebook": {
     "kernelName": "csharp"
    }
   },
   "outputs": [
    {
     "data": {
      "text/html": [
       "<div><div></div><div></div><div><strong>Installed Packages</strong><ul><li><span>Microsoft.SemanticKernel.Core, 1.44.0</span></li></ul></div></div>"
      ]
     },
     "metadata": {},
     "output_type": "display_data"
    }
   ],
   "source": [
    "#r \"nuget: Microsoft.SemanticKernel.Core\""
   ]
  },
  {
   "cell_type": "code",
   "execution_count": 5,
   "metadata": {
    "polyglot_notebook": {
     "kernelName": "csharp"
    }
   },
   "outputs": [],
   "source": [
    "using Microsoft.SemanticKernel.Text;\n",
    "\n",
    "string[] Partition(string text) \n",
    "{\n",
    "    //Currently we use static chunking. We should replace this with semantic chunking in the future.\n",
    "    const int maxTokensPerLine = 200;\n",
    "    const int maxTokensPerParagraph = 700;\n",
    "    const int overlappingTokens = 70;\n",
    "    const double charactersPerToken = 4.7; //https://docs.aws.amazon.com/bedrock/latest/userguide/titan-embedding-models.html\n",
    "\n",
    "    #pragma warning disable SKEXP0050 // experminental API\n",
    "    TextChunker.TokenCounter tokenCounter = (string s) => (int)(s.Length / charactersPerToken);\n",
    "    var sentences = TextChunker.SplitPlainTextLines(text, maxTokensPerLine: maxTokensPerLine, tokenCounter: tokenCounter);\n",
    "    var partitions = TextChunker.SplitPlainTextParagraphs(sentences, maxTokensPerParagraph: maxTokensPerParagraph, overlapTokens: overlappingTokens, tokenCounter: tokenCounter, chunkHeader: null);\n",
    "    #pragma warning restore SKEXP0050 // experminental API\n",
    "\n",
    "    return partitions.ToArray();\n",
    "}"
   ]
  },
  {
   "cell_type": "code",
   "execution_count": 6,
   "metadata": {
    "polyglot_notebook": {
     "kernelName": "csharp"
    }
   },
   "outputs": [
    {
     "data": {
      "text/plain": [
       "107 partitions"
      ]
     },
     "metadata": {},
     "output_type": "display_data"
    }
   ],
   "source": [
    "var partitions = Partition(text);\n",
    "display($\"{partitions.Length} partitions\");"
   ]
  },
  {
   "cell_type": "markdown",
   "metadata": {
    "polyglot_notebook": {
     "kernelName": "csharp"
    }
   },
   "source": [
    "## Embedding\n",
    "\n",
    "For text embedding we use [Amazon Titan Text Embeddings v2](https://docs.aws.amazon.com/bedrock/latest/userguide/titan-embedding-models.html) on Amazon Bedrock."
   ]
  },
  {
   "cell_type": "code",
   "execution_count": 7,
   "metadata": {
    "polyglot_notebook": {
     "kernelName": "csharp"
    }
   },
   "outputs": [
    {
     "data": {
      "text/html": [
       "<div><div></div><div></div><div><strong>Installed Packages</strong><ul><li><span>AWSSDK.BedrockRuntime, 3.7.415</span></li><li><span>Microsoft.Extensions.Configuration.Json, 9.0.3</span></li></ul></div></div>"
      ]
     },
     "metadata": {},
     "output_type": "display_data"
    }
   ],
   "source": [
    "#r \"nuget: AWSSDK.BedrockRuntime\"\n",
    "#r \"nuget: Microsoft.Extensions.Configuration.Json\""
   ]
  },
  {
   "cell_type": "code",
   "execution_count": 8,
   "metadata": {
    "polyglot_notebook": {
     "kernelName": "csharp"
    }
   },
   "outputs": [],
   "source": [
    "using Amazon.BedrockRuntime;\n",
    "using Amazon.BedrockRuntime.Model;\n",
    "using Microsoft.Extensions.Configuration;\n",
    "\n",
    "var config = new ConfigurationBuilder()\n",
    "    .SetBasePath(Directory.GetCurrentDirectory())\n",
    "    .AddJsonFile(\"appsettings.json\", optional: false)\n",
    "\t.AddJsonFile(\"appsettings.local.json\", optional: true)\n",
    "    .Build();\n",
    "\n",
    "var bedrock = new AmazonBedrockRuntimeClient(\n",
    "\tawsAccessKeyId: config[\"AWSBedrockAccessKeyId\"]!,\n",
    "\tawsSecretAccessKey: config[\"AWSBedrockSecretAccessKey\"]!,\n",
    "\tregion: Amazon.RegionEndpoint.GetBySystemName(config[\"AWSBedrockRegion\"]!));"
   ]
  },
  {
   "cell_type": "code",
   "execution_count": 9,
   "metadata": {
    "polyglot_notebook": {
     "kernelName": "csharp"
    }
   },
   "outputs": [],
   "source": [
    "using System.Text.Json;\n",
    "using System.Threading;\n",
    "using Amazon.Util;\n",
    "\n",
    "record EmbeddingRequest(string inputText);\n",
    "record EmbeddingResponse(float[] embedding, int inputTextTokenCount);\n",
    "\n",
    "async Task<EmbeddingResponse> Embed(string text, CancellationToken cancellationToken = default)\n",
    "{\n",
    "    var requestBody = AWSSDKUtils.GenerateMemoryStreamFromString(JsonSerializer.Serialize(new EmbeddingRequest(text)));\n",
    "    var request = new InvokeModelRequest\n",
    "    {\n",
    "        ModelId = \"amazon.titan-embed-text-v2:0\",\n",
    "        Body = requestBody,\n",
    "    };\n",
    "    var response = await bedrock.InvokeModelAsync(request, cancellationToken);\n",
    "    var embedded = await JsonSerializer.DeserializeAsync<EmbeddingResponse>(response.Body, cancellationToken: cancellationToken);\n",
    "    return embedded;\n",
    "}"
   ]
  },
  {
   "cell_type": "markdown",
   "metadata": {},
   "source": [
    "We embed all partitions in parallel."
   ]
  },
  {
   "cell_type": "code",
   "execution_count": 10,
   "metadata": {
    "polyglot_notebook": {
     "kernelName": "csharp"
    }
   },
   "outputs": [
    {
     "data": {
      "text/plain": [
       "Parallel embedding 107 times took 00:00:01.7143092 and 73674 input tokens"
      ]
     },
     "metadata": {},
     "output_type": "display_data"
    }
   ],
   "source": [
    "using System.Linq;\n",
    "using System.Diagnostics;\n",
    "\n",
    "record Embedding(float[] embedding, int inputTokens, int paritionIndex);\n",
    "\n",
    "var embeddingStopwatch = Stopwatch.StartNew();\n",
    "var embeddingTasks = partitions\n",
    "    .Select((p, i) => (value: p, index: i))\n",
    "    .Select(async partition =>\n",
    "    {\n",
    "        var embedding = await Embed(partition.value);\n",
    "        return new Embedding(embedding.embedding, embedding.inputTextTokenCount, partition.index);\n",
    "    })\n",
    "    .ToList();\n",
    "await Task.WhenAll(embeddingTasks);\n",
    "var embeddings = embeddingTasks.Select(t => t.Result).ToList();\n",
    "var totalInputTokens = embeddings.Sum(s => s.inputTokens);\n",
    "embeddingStopwatch.Stop();\n",
    "\n",
    "display($\"Parallel embedding {embeddings.Count} times took {embeddingStopwatch.Elapsed} and {totalInputTokens} input tokens\");"
   ]
  },
  {
   "cell_type": "markdown",
   "metadata": {},
   "source": [
    "## Clustering\n",
    "\n",
    "For clustering we use K-means with [ML.NET](https://dotnet.microsoft.com/en-us/apps/ai/ml-dotnet)."
   ]
  },
  {
   "cell_type": "code",
   "execution_count": 11,
   "metadata": {
    "polyglot_notebook": {
     "kernelName": "csharp"
    }
   },
   "outputs": [
    {
     "data": {
      "text/html": [
       "<div><div></div><div></div><div><strong>Installed Packages</strong><ul><li><span>Microsoft.ML, 4.0.2</span></li></ul></div></div>"
      ]
     },
     "metadata": {},
     "output_type": "display_data"
    }
   ],
   "source": [
    "#r \"nuget: Microsoft.ML\""
   ]
  },
  {
   "cell_type": "code",
   "execution_count": 12,
   "metadata": {
    "polyglot_notebook": {
     "kernelName": "csharp"
    }
   },
   "outputs": [],
   "source": [
    "using Microsoft.ML;\n",
    "using Microsoft.ML.Data;\n",
    "using Microsoft.ML.Trainers;\n",
    "\n",
    "record DataPoint([property:KeyType(2)] uint PartitionIndex, [property:VectorType(1024)] float[] Features);\n",
    "\n",
    "List<float[]> Kmeans(IEnumerable<DataPoint> dataPoints)\n",
    "{\n",
    "    const int k = 10;\n",
    "    var mlContext = new MLContext(seed: 0);\n",
    "    \n",
    "    //Load\n",
    "    var dataView = mlContext.Data.LoadFromEnumerable(dataPoints);\n",
    "    \n",
    "    //Normalize (Does it really make a difference? If we need to, we need to normalize the embeddings in general, not only for clustering.)\n",
    "    // var dataProcessingPipeline = mlContext.Transforms.NormalizeMeanVariance(nameof(DataPoint.Features));\n",
    "    // var processedData = dataProcessingPipeline.Fit(dataView).Transform(dataView);\n",
    "    var processedData = dataView;\n",
    "    \n",
    "    //Train\n",
    "    var pipeline = mlContext.Clustering.Trainers.KMeans(new KMeansTrainer.Options\n",
    "    {\n",
    "        NumberOfClusters = k,\n",
    "        FeatureColumnName = nameof(DataPoint.Features),\n",
    "    });\n",
    "    var model = pipeline.Fit(processedData);\n",
    "    \n",
    "    //Getting clusters\n",
    "    VBuffer<float>[] centroids = default;\n",
    "    var modelParams = model.Model;\n",
    "    modelParams.GetClusterCentroids(ref centroids, out int clusters);\n",
    "    return centroids.Select(c => c.DenseValues().ToArray()).ToList();\n",
    "}"
   ]
  },
  {
   "cell_type": "code",
   "execution_count": 13,
   "metadata": {
    "polyglot_notebook": {
     "kernelName": "csharp"
    }
   },
   "outputs": [
    {
     "data": {
      "text/plain": [
       "K-means took 00:00:00.0794333 to build 10 clusters"
      ]
     },
     "metadata": {},
     "output_type": "display_data"
    }
   ],
   "source": [
    "var kmeansStopwatch = Stopwatch.StartNew();\n",
    "var dataPoints = embeddings.Select(e => new DataPoint((uint)e.paritionIndex, e.embedding));\n",
    "var clusterCenters = Kmeans(dataPoints);\n",
    "kmeansStopwatch.Stop();\n",
    "display($\"K-means took {kmeansStopwatch.Elapsed} to build {clusterCenters.Count} clusters\");"
   ]
  },
  {
   "cell_type": "markdown",
   "metadata": {},
   "source": [
    "## Indexing\n",
    "\n",
    "For each semantic cluster we find a representative that is the nearest neighbour of the cluster center. We use [HNSW.Net](https://github.com/curiosity-ai/hnsw-sharp) for fast vector search in memory."
   ]
  },
  {
   "cell_type": "code",
   "execution_count": 14,
   "metadata": {
    "polyglot_notebook": {
     "kernelName": "csharp"
    }
   },
   "outputs": [
    {
     "data": {
      "text/html": [
       "<div><div></div><div></div><div><strong>Installed Packages</strong><ul><li><span>HNSW, 25.3.56901</span></li></ul></div></div>"
      ]
     },
     "metadata": {},
     "output_type": "display_data"
    }
   ],
   "source": [
    "#r \"nuget: HNSW\""
   ]
  },
  {
   "cell_type": "code",
   "execution_count": 15,
   "metadata": {
    "polyglot_notebook": {
     "kernelName": "csharp"
    }
   },
   "outputs": [],
   "source": [
    "using HNSW.Net;\n",
    "\n",
    "Func<float[], Embedding> Hnsw(List<Embedding> embeddings)\n",
    "{\n",
    "    // Parameter explanation https://github.com/curiosity-ai/hnsw-sharp/blob/master/Src/HNSW.Net/SmallWorld.cs#L216\n",
    "    var parameters = new SmallWorld<Embedding, float>.Parameters()\n",
    "    {\n",
    "        M = 15,\n",
    "        LevelLambda = 1 / Math.Log(15),\n",
    "    };\n",
    "\n",
    "    var graph = new SmallWorld<Embedding, float>((e1, e2) => CosineDistance.NonOptimized(e1.embedding, e2.embedding), DefaultRandomGenerator.Instance, parameters);\n",
    "    graph.AddItems(embeddings);\n",
    "    \n",
    "    return search =>\n",
    "    {\n",
    "        var searchEmbedding = new Embedding(search, -1, -1);\n",
    "        var nn = graph.KNNSearch(searchEmbedding, 1).Single();\n",
    "        return nn.Item;\n",
    "    };\n",
    "}"
   ]
  },
  {
   "cell_type": "code",
   "execution_count": 16,
   "metadata": {
    "polyglot_notebook": {
     "kernelName": "csharp"
    }
   },
   "outputs": [
    {
     "data": {
      "text/plain": [
       "Building HNSW index with 107 items and finding 10 'cluster center nearest neighbours' took 00:00:00.5676770."
      ]
     },
     "metadata": {},
     "output_type": "display_data"
    },
    {
     "data": {
      "text/html": [
       "<div class=\"dni-plaintext\"><pre>[ 14, 22, 43, 65, 69, 72, 77, 81, 82, 99 ]</pre></div><style>\r\n",
       ".dni-code-hint {\r\n",
       "    font-style: italic;\r\n",
       "    overflow: hidden;\r\n",
       "    white-space: nowrap;\r\n",
       "}\r\n",
       ".dni-treeview {\r\n",
       "    white-space: nowrap;\r\n",
       "}\r\n",
       ".dni-treeview td {\r\n",
       "    vertical-align: top;\r\n",
       "    text-align: start;\r\n",
       "}\r\n",
       "details.dni-treeview {\r\n",
       "    padding-left: 1em;\r\n",
       "}\r\n",
       "table td {\r\n",
       "    text-align: start;\r\n",
       "}\r\n",
       "table tr { \r\n",
       "    vertical-align: top; \r\n",
       "    margin: 0em 0px;\r\n",
       "}\r\n",
       "table tr td pre \r\n",
       "{ \r\n",
       "    vertical-align: top !important; \r\n",
       "    margin: 0em 0px !important;\r\n",
       "} \r\n",
       "table th {\r\n",
       "    text-align: start;\r\n",
       "}\r\n",
       "</style>"
      ]
     },
     "metadata": {},
     "output_type": "display_data"
    }
   ],
   "source": [
    "var nnStopwatch = Stopwatch.StartNew();\n",
    "var nn = Hnsw(embeddings);\n",
    "var clusterRepresentatives = clusterCenters\n",
    "    .Select(nn)\n",
    "    .Select(crnn => new { crnn.paritionIndex, partition = partitions.ElementAt(crnn.paritionIndex) })\n",
    "    .ToList();\n",
    "nnStopwatch.Stop();\n",
    "\n",
    "display($\"Building HNSW index with {embeddings.Count} items and finding {clusterRepresentatives.Count} 'cluster center nearest neighbours' took {nnStopwatch.Elapsed}.\");\n",
    "display(clusterRepresentatives.Select(cr => cr.paritionIndex).Order());"
   ]
  },
  {
   "cell_type": "markdown",
   "metadata": {},
   "source": [
    "Alternatively we dont use an index. Since we only have a few embeddings, it might even be faster to calculate cosine similarities directly. It is limited by $O(k \\cdot |E|)$ with $k$ being the count of semantic clusters and $E$ the set of embeddings."
   ]
  },
  {
   "cell_type": "code",
   "execution_count": 17,
   "metadata": {
    "polyglot_notebook": {
     "kernelName": "csharp"
    }
   },
   "outputs": [
    {
     "data": {
      "text/html": [
       "<div><div></div><div></div><div><strong>Installed Packages</strong><ul><li><span>system.numerics.tensors, 9.0.0</span></li></ul></div></div>"
      ]
     },
     "metadata": {},
     "output_type": "display_data"
    }
   ],
   "source": [
    "#r \"nuget: System.Numerics.Tensors\""
   ]
  },
  {
   "cell_type": "code",
   "execution_count": 18,
   "metadata": {
    "polyglot_notebook": {
     "kernelName": "csharp"
    }
   },
   "outputs": [],
   "source": [
    "using System.Numerics.Tensors;\n",
    "\n",
    "Func<float[], Embedding> BruteForce(List<Embedding> embeddings)\n",
    "{\n",
    "    return search => embeddings.OrderByDescending(e => TensorPrimitives.CosineSimilarity(search, e.embedding)).First();\n",
    "}"
   ]
  },
  {
   "cell_type": "code",
   "execution_count": 19,
   "metadata": {
    "polyglot_notebook": {
     "kernelName": "csharp"
    }
   },
   "outputs": [
    {
     "data": {
      "text/plain": [
       "Brute-force finding 10 'cluster center nearest neighbours' took 00:00:00.0030793."
      ]
     },
     "metadata": {},
     "output_type": "display_data"
    },
    {
     "data": {
      "text/html": [
       "<div class=\"dni-plaintext\"><pre>[ 14, 22, 43, 65, 69, 72, 77, 82, 99, 106 ]</pre></div><style>\r\n",
       ".dni-code-hint {\r\n",
       "    font-style: italic;\r\n",
       "    overflow: hidden;\r\n",
       "    white-space: nowrap;\r\n",
       "}\r\n",
       ".dni-treeview {\r\n",
       "    white-space: nowrap;\r\n",
       "}\r\n",
       ".dni-treeview td {\r\n",
       "    vertical-align: top;\r\n",
       "    text-align: start;\r\n",
       "}\r\n",
       "details.dni-treeview {\r\n",
       "    padding-left: 1em;\r\n",
       "}\r\n",
       "table td {\r\n",
       "    text-align: start;\r\n",
       "}\r\n",
       "table tr { \r\n",
       "    vertical-align: top; \r\n",
       "    margin: 0em 0px;\r\n",
       "}\r\n",
       "table tr td pre \r\n",
       "{ \r\n",
       "    vertical-align: top !important; \r\n",
       "    margin: 0em 0px !important;\r\n",
       "} \r\n",
       "table th {\r\n",
       "    text-align: start;\r\n",
       "}\r\n",
       "</style>"
      ]
     },
     "metadata": {},
     "output_type": "display_data"
    }
   ],
   "source": [
    "var nnStopwatch = Stopwatch.StartNew();\n",
    "var nn = BruteForce(embeddings);\n",
    "var clusterRepresentatives = clusterCenters\n",
    "    .Select(nn)\n",
    "    .Select(crnn => new { crnn.paritionIndex, partition = partitions.ElementAt(crnn.paritionIndex) })\n",
    "    .ToList();\n",
    "nnStopwatch.Stop();\n",
    "\n",
    "display($\"Brute-force finding {clusterRepresentatives.Count} 'cluster center nearest neighbours' took {nnStopwatch.Elapsed}.\");\n",
    "display(clusterRepresentatives.Select(cr => cr.paritionIndex).Order());"
   ]
  },
  {
   "cell_type": "markdown",
   "metadata": {},
   "source": [
    "## Summarizing\n",
    "\n",
    "For summarization we use [Anthropic Claude 3.5 Sonnet](https://docs.aws.amazon.com/bedrock/latest/userguide/model-parameters-claude.html) on Amazon Bedrock."
   ]
  },
  {
   "cell_type": "code",
   "execution_count": 20,
   "metadata": {
    "polyglot_notebook": {
     "kernelName": "csharp"
    }
   },
   "outputs": [],
   "source": [
    "record Content(string role, string text);\n",
    "record Usage(int input_tokens, int output_tokens);\n",
    "record InvokeResponse(Content[] content, string stop_reason, Usage usage);\n",
    "record SummarizeResponse(string summary, int inputTokens, int outputTokens);\n",
    "\n",
    "async Task<SummarizeResponse> Summarize(string text, CancellationToken cancellationToken = default)\n",
    "{\n",
    "    var prompt =\n",
    "        $\"\"\"\n",
    "        Provide a summary of the following text. Your result must be detailed and atleast 2 paragraphs.\n",
    "        When summarizing, directly dive into the narrative or descriptions from the text without using\n",
    "        introductory phrases like 'In this passage'. Directly address the main events, characters, and\n",
    "        themes, encapsulating the essence and significant details from the text in a flowing narrative.\n",
    "        The goal is to present a unified view of the content, continuing the story seamlessly as if the\n",
    "        passage naturally progresses into the summary.\n",
    "        \n",
    "        Passage:\n",
    "        ```{text}```\n",
    "        \"\"\";\n",
    "\n",
    "    var nativeRequest = new\n",
    "    {\n",
    "        anthropic_version = \"bedrock-2023-05-31\",\n",
    "        max_tokens = 512,\n",
    "        temperature = 0.0,\n",
    "        messages = new[]\n",
    "        {\n",
    "            new { role = \"user\", content = prompt }\n",
    "        }\n",
    "    };\n",
    "    \n",
    "    var response = await bedrock.InvokeModelAsync(new InvokeModelRequest\n",
    "    {\n",
    "        ModelId = \"anthropic.claude-3-5-sonnet-20240620-v1:0\", //is \"anthropic.claude-3-haiku-20240307-v1:0\"; cheaper/faster?\n",
    "        Body = AWSSDKUtils.GenerateMemoryStreamFromString(JsonSerializer.Serialize(nativeRequest)),\n",
    "        ContentType = \"application/json\",\n",
    "    }, cancellationToken);\n",
    "\n",
    "    var responseBody = await JsonSerializer.DeserializeAsync<InvokeResponse>(response.Body, cancellationToken: cancellationToken);\n",
    "    return new SummarizeResponse(responseBody.content[0].text, responseBody.usage.input_tokens, responseBody.usage.output_tokens);\n",
    "}"
   ]
  },
  {
   "cell_type": "code",
   "execution_count": 21,
   "metadata": {
    "polyglot_notebook": {
     "kernelName": "csharp"
    }
   },
   "outputs": [
    {
     "data": {
      "text/plain": [
       "Summarizing 10 cluster representatives took 00:00:06.7322285, 9013 input tokens and 2744 output tokens."
      ]
     },
     "metadata": {},
     "output_type": "display_data"
    }
   ],
   "source": [
    "record PartitionSummary(SummarizeResponse summary, int paritionIndex);\n",
    "\n",
    "var summarizeStopwatch = Stopwatch.StartNew();\n",
    "var summaryTasks = clusterRepresentatives\n",
    "    .Select(async clusterRepresentative =>\n",
    "    {\n",
    "        var summary = await Summarize(clusterRepresentative.partition);\n",
    "        return new PartitionSummary(summary, clusterRepresentative.paritionIndex);\n",
    "    })\n",
    "    .ToList();\n",
    "await Task.WhenAll(summaryTasks);\n",
    "var summaries = summaryTasks\n",
    "    .Select(t => t.Result)\n",
    "    .OrderBy(s => s.paritionIndex)//keeping the order of the original partitions of source document\n",
    "    .ToList();\n",
    "\n",
    "var concatenatedSummary = string.Join(\"\\n\\n\", summaries.Select(s => s.summary.summary));\n",
    "var totalInputTokens = summaries.Sum(s => s.summary.inputTokens);\n",
    "var totalOutputTokens = summaries.Sum(s => s.summary.outputTokens);\n",
    "summarizeStopwatch.Stop();\n",
    "\n",
    "display($\"Summarizing {clusterRepresentatives.Count} cluster representatives took {summarizeStopwatch.Elapsed}, {totalInputTokens} input tokens and {totalOutputTokens} output tokens.\");\n",
    "//display(concatenatedSummary);"
   ]
  }
 ],
 "metadata": {
  "kernelspec": {
   "display_name": ".NET (C#)",
   "language": "C#",
   "name": ".net-csharp"
  },
  "polyglot_notebook": {
   "kernelInfo": {
    "defaultKernelName": "csharp",
    "items": [
     {
      "aliases": [],
      "languageName": "csharp",
      "name": "csharp"
     }
    ]
   }
  }
 },
 "nbformat": 4,
 "nbformat_minor": 2
}
